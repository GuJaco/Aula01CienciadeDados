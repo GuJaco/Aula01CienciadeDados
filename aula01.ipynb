{
  "nbformat": 4,
  "nbformat_minor": 0,
  "metadata": {
    "colab": {
      "provenance": [],
      "authorship_tag": "ABX9TyMGOi+AROFifFbxMr3qJIH4",
      "include_colab_link": true
    },
    "kernelspec": {
      "name": "python3",
      "display_name": "Python 3"
    },
    "language_info": {
      "name": "python"
    }
  },
  "cells": [
    {
      "cell_type": "markdown",
      "metadata": {
        "id": "view-in-github",
        "colab_type": "text"
      },
      "source": [
        "<a href=\"https://colab.research.google.com/github/GuJaco/Aula01CienciadeDados/blob/main/aula01.ipynb\" target=\"_parent\"><img src=\"https://colab.research.google.com/assets/colab-badge.svg\" alt=\"Open In Colab\"/></a>"
      ]
    },
    {
      "cell_type": "code",
      "execution_count": 7,
      "metadata": {
        "colab": {
          "base_uri": "https://localhost:8080/"
        },
        "id": "M4nuJeuGM2GE",
        "outputId": "687c98a4-31e0-4d25-9d28-28b772e39c03"
      },
      "outputs": [
        {
          "output_type": "stream",
          "name": "stdout",
          "text": [
            "Informações gerais do dataset:\n",
            "<class 'pandas.core.frame.DataFrame'>\n",
            "RangeIndex: 0 entries\n",
            "Data columns (total 1 columns):\n",
            " #   Column             Non-Null Count  Dtype \n",
            "---  ------             --------------  ----- \n",
            " 0   NOME;IDADE;CIDADE  0 non-null      object\n",
            "dtypes: object(1)\n",
            "memory usage: 132.0+ bytes\n",
            "None\n",
            "\n",
            " Estatísticas descritivas:\n",
            "       NOME;IDADE;CIDADE\n",
            "count                  0\n",
            "unique                 0\n",
            "top                  NaN\n",
            "freq                 NaN\n"
          ]
        }
      ],
      "source": [
        "import pandas as pd\n",
        "\n",
        "arquivo_csv = 'https://raw.githubusercontent.com/GuJaco/Aula01CienciadeDados/refs/heads/main/Book(Planilha1).csv'\n",
        "dados = pd.read_csv(arquivo_csv)\n",
        "\n",
        "print(\"Informações gerais do dataset:\")\n",
        "print(dados.info())\n",
        "\n",
        "print(\"\\n Estatísticas descritivas:\")\n",
        "print(dados.describe())"
      ]
    }
  ]
}